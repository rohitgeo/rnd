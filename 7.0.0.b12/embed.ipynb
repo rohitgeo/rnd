{
 "cells": [
  {
   "cell_type": "code",
   "execution_count": 1,
   "metadata": {},
   "outputs": [
    {
     "data": {
      "application/vnd.jupyter.widget-view+json": {
       "model_id": "c98083e9eba044dab8fbedc9e772b0eb",
       "version_major": 2,
       "version_minor": 0
      },
      "text/plain": [
       "A Jupyter Widget"
      ]
     },
     "metadata": {},
     "output_type": "display_data"
    }
   ],
   "source": [
    "from ipyarcgis import HelloWorld\n",
    "h = HelloWorld()\n",
    "h"
   ]
  },
  {
   "cell_type": "code",
   "execution_count": 2,
   "metadata": {},
   "outputs": [
    {
     "name": "stdout",
     "output_type": "stream",
     "text": [
      "None\n"
     ]
    }
   ],
   "source": [
    "from ipywidgets.embed import *\n",
    "\n",
    "print(embed_minimal_html('my_export.html', views=[h]))"
   ]
  },
  {
   "cell_type": "code",
   "execution_count": 5,
   "metadata": {},
   "outputs": [
    {
     "name": "stdout",
     "output_type": "stream",
     "text": [
      "\n",
      "<script src=\"https://unpkg.com/@jupyter-widgets/html-manager@^0.8.0/dist/embed.js\"></script>\n",
      "<script type=\"application/vnd.jupyter.widget-state+json\">\n",
      "{\n",
      "  \"version_major\": 2,\n",
      "  \"version_minor\": 0,\n",
      "  \"state\": {\n",
      "    \"d19bbd4f8854476ea0941d6983ce7a8f\": {\n",
      "      \"model_name\": \"LayoutModel\",\n",
      "      \"model_module\": \"@jupyter-widgets/base\",\n",
      "      \"model_module_version\": \"1.0.0\",\n",
      "      \"state\": {}\n",
      "    },\n",
      "    \"c98083e9eba044dab8fbedc9e772b0eb\": {\n",
      "      \"model_name\": \"HelloModel\",\n",
      "      \"model_module\": \"arcgis-widgets\",\n",
      "      \"model_module_version\": \"^0.2.0\",\n",
      "      \"state\": {\n",
      "        \"_dom_classes\": [],\n",
      "        \"layout\": \"IPY_MODEL_d19bbd4f8854476ea0941d6983ce7a8f\"\n",
      "      }\n",
      "    }\n",
      "  }\n",
      "}\n",
      "</script>\n",
      "<script type=\"application/vnd.jupyter.widget-view+json\">\n",
      "{\"version_major\": 2, \"version_minor\": 0, \"model_id\": \"c98083e9eba044dab8fbedc9e772b0eb\"}\n",
      "</script>\n",
      "\n"
     ]
    }
   ],
   "source": [
    "from ipywidgets.embed import embed_snippet\n",
    "\n",
    "print(embed_snippet(views=[h]))"
   ]
  },
  {
   "cell_type": "code",
   "execution_count": 6,
   "metadata": {},
   "outputs": [
    {
     "name": "stdout",
     "output_type": "stream",
     "text": [
      "{'version_major': 2, 'version_minor': 0, 'state': {'d19bbd4f8854476ea0941d6983ce7a8f': {'model_name': 'LayoutModel', 'model_module': '@jupyter-widgets/base', 'model_module_version': '1.0.0', 'state': {}}, 'c98083e9eba044dab8fbedc9e772b0eb': {'model_name': 'HelloModel', 'model_module': 'arcgis-widgets', 'model_module_version': '^0.2.0', 'state': {'_dom_classes': (), 'layout': 'IPY_MODEL_d19bbd4f8854476ea0941d6983ce7a8f'}}}}\n",
      "[{'version_major': 2, 'version_minor': 0, 'model_id': 'c98083e9eba044dab8fbedc9e772b0eb'}]\n"
     ]
    }
   ],
   "source": [
    "data = embed_data(views=[h])\n",
    "print(data['manager_state'])\n",
    "print(data['view_specs'])"
   ]
  },
  {
   "cell_type": "code",
   "execution_count": null,
   "metadata": {
    "collapsed": true
   },
   "outputs": [],
   "source": []
  }
 ],
 "metadata": {
  "kernelspec": {
   "display_name": "Python 3",
   "language": "python",
   "name": "python3"
  },
  "language_info": {
   "codemirror_mode": {
    "name": "ipython",
    "version": 3
   },
   "file_extension": ".py",
   "mimetype": "text/x-python",
   "name": "python",
   "nbconvert_exporter": "python",
   "pygments_lexer": "ipython3",
   "version": "3.6.2"
  },
  "widgets": {
   "application/vnd.jupyter.widget-state+json": {
    "state": {
     "c98083e9eba044dab8fbedc9e772b0eb": {
      "model_module": "arcgis-widgets",
      "model_module_version": "^0.2.0",
      "model_name": "HelloModel",
      "state": {
       "_model_module_version": "^0.2.0",
       "_view_module_version": "^0.2.0",
       "layout": "IPY_MODEL_d19bbd4f8854476ea0941d6983ce7a8f",
       "value": "Hello World!"
      }
     },
     "d19bbd4f8854476ea0941d6983ce7a8f": {
      "model_module": "@jupyter-widgets/base",
      "model_module_version": "1.0.0",
      "model_name": "LayoutModel",
      "state": {}
     }
    },
    "version_major": 2,
    "version_minor": 0
   }
  }
 },
 "nbformat": 4,
 "nbformat_minor": 2
}
